{
 "cells": [
  {
   "cell_type": "code",
   "execution_count": 1,
   "id": "6d835296",
   "metadata": {
    "_cell_guid": "b1076dfc-b9ad-4769-8c92-a6c4dae69d19",
    "_uuid": "8f2839f25d086af736a60e9eeb907d3b93b6e0e5",
    "execution": {
     "iopub.execute_input": "2025-09-22T16:45:33.424349Z",
     "iopub.status.busy": "2025-09-22T16:45:33.424009Z",
     "iopub.status.idle": "2025-09-22T16:45:34.890589Z",
     "shell.execute_reply": "2025-09-22T16:45:34.889694Z"
    },
    "papermill": {
     "duration": 1.472422,
     "end_time": "2025-09-22T16:45:34.891951",
     "exception": false,
     "start_time": "2025-09-22T16:45:33.419529",
     "status": "completed"
    },
    "tags": []
   },
   "outputs": [
    {
     "name": "stdout",
     "output_type": "stream",
     "text": [
      "/kaggle/input/unlock-profits-with-e-commerce-sales-data/Amazon Sale Report.csv\n",
      "/kaggle/input/unlock-profits-with-e-commerce-sales-data/Cloud Warehouse Compersion Chart.csv\n",
      "/kaggle/input/unlock-profits-with-e-commerce-sales-data/May-2022.csv\n",
      "/kaggle/input/unlock-profits-with-e-commerce-sales-data/P  L March 2021.csv\n",
      "/kaggle/input/unlock-profits-with-e-commerce-sales-data/International sale Report.csv\n",
      "/kaggle/input/unlock-profits-with-e-commerce-sales-data/Expense IIGF.csv\n",
      "/kaggle/input/unlock-profits-with-e-commerce-sales-data/Sale Report.csv\n"
     ]
    }
   ],
   "source": [
    "# This Python 3 environment comes with many helpful analytics libraries installed\n",
    "# It is defined by the kaggle/python Docker image: https://github.com/kaggle/docker-python\n",
    "# For example, here's several helpful packages to load\n",
    "\n",
    "import numpy as np # linear algebra\n",
    "import pandas as pd # data processing, CSV file I/O (e.g. pd.read_csv)\n",
    "\n",
    "# Input data files are available in the read-only \"../input/\" directory\n",
    "# For example, running this (by clicking run or pressing Shift+Enter) will list all files under the input directory\n",
    "\n",
    "import os\n",
    "for dirname, _, filenames in os.walk('/kaggle/input'):\n",
    "    for filename in filenames:\n",
    "        print(os.path.join(dirname, filename))\n",
    "\n",
    "# You can write up to 20GB to the current directory (/kaggle/working/) that gets preserved as output when you create a version using \"Save & Run All\" \n",
    "# You can also write temporary files to /kaggle/temp/, but they won't be saved outside of the current session"
   ]
  },
  {
   "cell_type": "code",
   "execution_count": 2,
   "id": "7b2542ab",
   "metadata": {
    "execution": {
     "iopub.execute_input": "2025-09-22T16:45:34.899533Z",
     "iopub.status.busy": "2025-09-22T16:45:34.899235Z",
     "iopub.status.idle": "2025-09-22T16:45:35.453642Z",
     "shell.execute_reply": "2025-09-22T16:45:35.452876Z"
    },
    "papermill": {
     "duration": 0.559696,
     "end_time": "2025-09-22T16:45:35.454876",
     "exception": false,
     "start_time": "2025-09-22T16:45:34.895180",
     "status": "completed"
    },
    "tags": []
   },
   "outputs": [
    {
     "name": "stdout",
     "output_type": "stream",
     "text": [
      "Path to dataset files: /kaggle/input/unlock-profits-with-e-commerce-sales-data\n"
     ]
    }
   ],
   "source": [
    "import kagglehub\n",
    "\n",
    "# Download latest version\n",
    "path = kagglehub.dataset_download(\"thedevastator/unlock-profits-with-e-commerce-sales-data\")\n",
    "\n",
    "print(\"Path to dataset files:\", path)"
   ]
  },
  {
   "cell_type": "code",
   "execution_count": 3,
   "id": "723a33c8",
   "metadata": {
    "execution": {
     "iopub.execute_input": "2025-09-22T16:45:35.461918Z",
     "iopub.status.busy": "2025-09-22T16:45:35.461485Z",
     "iopub.status.idle": "2025-09-22T16:45:35.513345Z",
     "shell.execute_reply": "2025-09-22T16:45:35.512609Z"
    },
    "papermill": {
     "duration": 0.056544,
     "end_time": "2025-09-22T16:45:35.514550",
     "exception": false,
     "start_time": "2025-09-22T16:45:35.458006",
     "status": "completed"
    },
    "tags": []
   },
   "outputs": [
    {
     "data": {
      "text/html": [
       "<div>\n",
       "<style scoped>\n",
       "    .dataframe tbody tr th:only-of-type {\n",
       "        vertical-align: middle;\n",
       "    }\n",
       "\n",
       "    .dataframe tbody tr th {\n",
       "        vertical-align: top;\n",
       "    }\n",
       "\n",
       "    .dataframe thead th {\n",
       "        text-align: right;\n",
       "    }\n",
       "</style>\n",
       "<table border=\"1\" class=\"dataframe\">\n",
       "  <thead>\n",
       "    <tr style=\"text-align: right;\">\n",
       "      <th></th>\n",
       "      <th>index</th>\n",
       "      <th>SKU Code</th>\n",
       "      <th>Design No.</th>\n",
       "      <th>Stock</th>\n",
       "      <th>Category</th>\n",
       "      <th>Size</th>\n",
       "      <th>Color</th>\n",
       "    </tr>\n",
       "  </thead>\n",
       "  <tbody>\n",
       "    <tr>\n",
       "      <th>0</th>\n",
       "      <td>0</td>\n",
       "      <td>AN201-RED-L</td>\n",
       "      <td>AN201</td>\n",
       "      <td>5.0</td>\n",
       "      <td>AN : LEGGINGS</td>\n",
       "      <td>L</td>\n",
       "      <td>Red</td>\n",
       "    </tr>\n",
       "    <tr>\n",
       "      <th>1</th>\n",
       "      <td>1</td>\n",
       "      <td>AN201-RED-M</td>\n",
       "      <td>AN201</td>\n",
       "      <td>5.0</td>\n",
       "      <td>AN : LEGGINGS</td>\n",
       "      <td>M</td>\n",
       "      <td>Red</td>\n",
       "    </tr>\n",
       "    <tr>\n",
       "      <th>2</th>\n",
       "      <td>2</td>\n",
       "      <td>AN201-RED-S</td>\n",
       "      <td>AN201</td>\n",
       "      <td>3.0</td>\n",
       "      <td>AN : LEGGINGS</td>\n",
       "      <td>S</td>\n",
       "      <td>Red</td>\n",
       "    </tr>\n",
       "    <tr>\n",
       "      <th>3</th>\n",
       "      <td>3</td>\n",
       "      <td>AN201-RED-XL</td>\n",
       "      <td>AN201</td>\n",
       "      <td>6.0</td>\n",
       "      <td>AN : LEGGINGS</td>\n",
       "      <td>XL</td>\n",
       "      <td>Red</td>\n",
       "    </tr>\n",
       "    <tr>\n",
       "      <th>4</th>\n",
       "      <td>4</td>\n",
       "      <td>AN201-RED-XXL</td>\n",
       "      <td>AN201</td>\n",
       "      <td>3.0</td>\n",
       "      <td>AN : LEGGINGS</td>\n",
       "      <td>XXL</td>\n",
       "      <td>Red</td>\n",
       "    </tr>\n",
       "  </tbody>\n",
       "</table>\n",
       "</div>"
      ],
      "text/plain": [
       "   index       SKU Code Design No.  Stock       Category Size Color\n",
       "0      0    AN201-RED-L      AN201    5.0  AN : LEGGINGS    L   Red\n",
       "1      1    AN201-RED-M      AN201    5.0  AN : LEGGINGS    M   Red\n",
       "2      2    AN201-RED-S      AN201    3.0  AN : LEGGINGS    S   Red\n",
       "3      3   AN201-RED-XL      AN201    6.0  AN : LEGGINGS   XL   Red\n",
       "4      4  AN201-RED-XXL      AN201    3.0  AN : LEGGINGS  XXL   Red"
      ]
     },
     "execution_count": 3,
     "metadata": {},
     "output_type": "execute_result"
    }
   ],
   "source": [
    "df = pd.read_csv(\"/kaggle/input/unlock-profits-with-e-commerce-sales-data/Sale Report.csv\")\n",
    "\n",
    "df.head()"
   ]
  },
  {
   "cell_type": "code",
   "execution_count": 4,
   "id": "603c5958",
   "metadata": {
    "execution": {
     "iopub.execute_input": "2025-09-22T16:45:35.521940Z",
     "iopub.status.busy": "2025-09-22T16:45:35.521568Z",
     "iopub.status.idle": "2025-09-22T16:45:35.559010Z",
     "shell.execute_reply": "2025-09-22T16:45:35.558279Z"
    },
    "papermill": {
     "duration": 0.042333,
     "end_time": "2025-09-22T16:45:35.560126",
     "exception": false,
     "start_time": "2025-09-22T16:45:35.517793",
     "status": "completed"
    },
    "tags": []
   },
   "outputs": [
    {
     "name": "stdout",
     "output_type": "stream",
     "text": [
      "<class 'pandas.core.frame.DataFrame'>\n",
      "RangeIndex: 9271 entries, 0 to 9270\n",
      "Data columns (total 7 columns):\n",
      " #   Column      Non-Null Count  Dtype  \n",
      "---  ------      --------------  -----  \n",
      " 0   index       9271 non-null   int64  \n",
      " 1   SKU Code    9188 non-null   object \n",
      " 2   Design No.  9235 non-null   object \n",
      " 3   Stock       9235 non-null   float64\n",
      " 4   Category    9226 non-null   object \n",
      " 5   Size        9235 non-null   object \n",
      " 6   Color       9226 non-null   object \n",
      "dtypes: float64(1), int64(1), object(5)\n",
      "memory usage: 507.1+ KB\n"
     ]
    },
    {
     "data": {
      "text/plain": [
       "index          0\n",
       "SKU Code      83\n",
       "Design No.    36\n",
       "Stock         36\n",
       "Category      45\n",
       "Size          36\n",
       "Color         45\n",
       "dtype: int64"
      ]
     },
     "execution_count": 4,
     "metadata": {},
     "output_type": "execute_result"
    }
   ],
   "source": [
    "df.info()\n",
    "df.describe()\n",
    "df.isnull().sum()"
   ]
  },
  {
   "cell_type": "code",
   "execution_count": 5,
   "id": "29f43d9e",
   "metadata": {
    "execution": {
     "iopub.execute_input": "2025-09-22T16:45:35.566887Z",
     "iopub.status.busy": "2025-09-22T16:45:35.566680Z",
     "iopub.status.idle": "2025-09-22T16:45:35.575754Z",
     "shell.execute_reply": "2025-09-22T16:45:35.575256Z"
    },
    "papermill": {
     "duration": 0.013654,
     "end_time": "2025-09-22T16:45:35.576785",
     "exception": false,
     "start_time": "2025-09-22T16:45:35.563131",
     "status": "completed"
    },
    "tags": []
   },
   "outputs": [],
   "source": [
    "df_cleaned = df.dropna()"
   ]
  },
  {
   "cell_type": "code",
   "execution_count": 6,
   "id": "9d7bf2f0",
   "metadata": {
    "execution": {
     "iopub.execute_input": "2025-09-22T16:45:35.583573Z",
     "iopub.status.busy": "2025-09-22T16:45:35.583375Z",
     "iopub.status.idle": "2025-09-22T16:45:35.593421Z",
     "shell.execute_reply": "2025-09-22T16:45:35.592859Z"
    },
    "papermill": {
     "duration": 0.014794,
     "end_time": "2025-09-22T16:45:35.594571",
     "exception": false,
     "start_time": "2025-09-22T16:45:35.579777",
     "status": "completed"
    },
    "tags": []
   },
   "outputs": [
    {
     "data": {
      "text/plain": [
       "0"
      ]
     },
     "execution_count": 6,
     "metadata": {},
     "output_type": "execute_result"
    }
   ],
   "source": [
    "df.duplicated().sum()"
   ]
  },
  {
   "cell_type": "code",
   "execution_count": 7,
   "id": "427d2b94",
   "metadata": {
    "execution": {
     "iopub.execute_input": "2025-09-22T16:45:35.602228Z",
     "iopub.status.busy": "2025-09-22T16:45:35.601971Z",
     "iopub.status.idle": "2025-09-22T16:45:35.635075Z",
     "shell.execute_reply": "2025-09-22T16:45:35.634519Z"
    },
    "papermill": {
     "duration": 0.038238,
     "end_time": "2025-09-22T16:45:35.636198",
     "exception": false,
     "start_time": "2025-09-22T16:45:35.597960",
     "status": "completed"
    },
    "tags": []
   },
   "outputs": [],
   "source": [
    "df.to_csv(\"/kaggle/working/cleaned_sales_report.csv\", index=False)"
   ]
  },
  {
   "cell_type": "code",
   "execution_count": 8,
   "id": "aceae8b8",
   "metadata": {
    "execution": {
     "iopub.execute_input": "2025-09-22T16:45:35.643366Z",
     "iopub.status.busy": "2025-09-22T16:45:35.643112Z",
     "iopub.status.idle": "2025-09-22T16:45:35.650927Z",
     "shell.execute_reply": "2025-09-22T16:45:35.650408Z"
    },
    "papermill": {
     "duration": 0.012619,
     "end_time": "2025-09-22T16:45:35.652055",
     "exception": false,
     "start_time": "2025-09-22T16:45:35.639436",
     "status": "completed"
    },
    "tags": []
   },
   "outputs": [
    {
     "data": {
      "text/plain": [
       "index          0\n",
       "SKU Code      83\n",
       "Design No.    36\n",
       "Stock         36\n",
       "Category      45\n",
       "Size          36\n",
       "Color         45\n",
       "dtype: int64"
      ]
     },
     "execution_count": 8,
     "metadata": {},
     "output_type": "execute_result"
    }
   ],
   "source": [
    "df.isnull().sum()"
   ]
  },
  {
   "cell_type": "code",
   "execution_count": 9,
   "id": "fcb9faf7",
   "metadata": {
    "execution": {
     "iopub.execute_input": "2025-09-22T16:45:35.659066Z",
     "iopub.status.busy": "2025-09-22T16:45:35.658891Z",
     "iopub.status.idle": "2025-09-22T16:45:35.668118Z",
     "shell.execute_reply": "2025-09-22T16:45:35.667278Z"
    },
    "papermill": {
     "duration": 0.014384,
     "end_time": "2025-09-22T16:45:35.669568",
     "exception": false,
     "start_time": "2025-09-22T16:45:35.655184",
     "status": "completed"
    },
    "tags": []
   },
   "outputs": [
    {
     "name": "stderr",
     "output_type": "stream",
     "text": [
      "/tmp/ipykernel_19/4264587367.py:1: FutureWarning: A value is trying to be set on a copy of a DataFrame or Series through chained assignment using an inplace method.\n",
      "The behavior will change in pandas 3.0. This inplace method will never work because the intermediate object on which we are setting values always behaves as a copy.\n",
      "\n",
      "For example, when doing 'df[col].method(value, inplace=True)', try using 'df.method({col: value}, inplace=True)' or df[col] = df[col].method(value) instead, to perform the operation inplace on the original object.\n",
      "\n",
      "\n",
      "  df['SKU Code'].fillna(\"Unknown\", inplace=True)\n",
      "/tmp/ipykernel_19/4264587367.py:2: FutureWarning: A value is trying to be set on a copy of a DataFrame or Series through chained assignment using an inplace method.\n",
      "The behavior will change in pandas 3.0. This inplace method will never work because the intermediate object on which we are setting values always behaves as a copy.\n",
      "\n",
      "For example, when doing 'df[col].method(value, inplace=True)', try using 'df.method({col: value}, inplace=True)' or df[col] = df[col].method(value) instead, to perform the operation inplace on the original object.\n",
      "\n",
      "\n",
      "  df['Design No.'].fillna(\"Unknown\", inplace=True)\n",
      "/tmp/ipykernel_19/4264587367.py:3: FutureWarning: A value is trying to be set on a copy of a DataFrame or Series through chained assignment using an inplace method.\n",
      "The behavior will change in pandas 3.0. This inplace method will never work because the intermediate object on which we are setting values always behaves as a copy.\n",
      "\n",
      "For example, when doing 'df[col].method(value, inplace=True)', try using 'df.method({col: value}, inplace=True)' or df[col] = df[col].method(value) instead, to perform the operation inplace on the original object.\n",
      "\n",
      "\n",
      "  df['Stock'].fillna(0, inplace=True)\n",
      "/tmp/ipykernel_19/4264587367.py:4: FutureWarning: A value is trying to be set on a copy of a DataFrame or Series through chained assignment using an inplace method.\n",
      "The behavior will change in pandas 3.0. This inplace method will never work because the intermediate object on which we are setting values always behaves as a copy.\n",
      "\n",
      "For example, when doing 'df[col].method(value, inplace=True)', try using 'df.method({col: value}, inplace=True)' or df[col] = df[col].method(value) instead, to perform the operation inplace on the original object.\n",
      "\n",
      "\n",
      "  df['Category'].fillna(\"Unknown\", inplace=True)\n",
      "/tmp/ipykernel_19/4264587367.py:5: FutureWarning: A value is trying to be set on a copy of a DataFrame or Series through chained assignment using an inplace method.\n",
      "The behavior will change in pandas 3.0. This inplace method will never work because the intermediate object on which we are setting values always behaves as a copy.\n",
      "\n",
      "For example, when doing 'df[col].method(value, inplace=True)', try using 'df.method({col: value}, inplace=True)' or df[col] = df[col].method(value) instead, to perform the operation inplace on the original object.\n",
      "\n",
      "\n",
      "  df['Size'].fillna(\"Unknown\", inplace=True)\n",
      "/tmp/ipykernel_19/4264587367.py:6: FutureWarning: A value is trying to be set on a copy of a DataFrame or Series through chained assignment using an inplace method.\n",
      "The behavior will change in pandas 3.0. This inplace method will never work because the intermediate object on which we are setting values always behaves as a copy.\n",
      "\n",
      "For example, when doing 'df[col].method(value, inplace=True)', try using 'df.method({col: value}, inplace=True)' or df[col] = df[col].method(value) instead, to perform the operation inplace on the original object.\n",
      "\n",
      "\n",
      "  df['Color'].fillna(\"Unknown\", inplace=True)\n"
     ]
    }
   ],
   "source": [
    "df['SKU Code'].fillna(\"Unknown\", inplace=True)\n",
    "df['Design No.'].fillna(\"Unknown\", inplace=True)\n",
    "df['Stock'].fillna(0, inplace=True)\n",
    "df['Category'].fillna(\"Unknown\", inplace=True)\n",
    "df['Size'].fillna(\"Unknown\", inplace=True)\n",
    "df['Color'].fillna(\"Unknown\", inplace=True)"
   ]
  },
  {
   "cell_type": "code",
   "execution_count": 10,
   "id": "fa17a9fb",
   "metadata": {
    "execution": {
     "iopub.execute_input": "2025-09-22T16:45:35.677371Z",
     "iopub.status.busy": "2025-09-22T16:45:35.677113Z",
     "iopub.status.idle": "2025-09-22T16:45:35.685681Z",
     "shell.execute_reply": "2025-09-22T16:45:35.684943Z"
    },
    "papermill": {
     "duration": 0.013749,
     "end_time": "2025-09-22T16:45:35.686782",
     "exception": false,
     "start_time": "2025-09-22T16:45:35.673033",
     "status": "completed"
    },
    "tags": []
   },
   "outputs": [
    {
     "data": {
      "text/plain": [
       "index         0\n",
       "SKU Code      0\n",
       "Design No.    0\n",
       "Stock         0\n",
       "Category      0\n",
       "Size          0\n",
       "Color         0\n",
       "dtype: int64"
      ]
     },
     "execution_count": 10,
     "metadata": {},
     "output_type": "execute_result"
    }
   ],
   "source": [
    "df.isnull().sum()"
   ]
  },
  {
   "cell_type": "code",
   "execution_count": 11,
   "id": "9696a398",
   "metadata": {
    "execution": {
     "iopub.execute_input": "2025-09-22T16:45:35.694759Z",
     "iopub.status.busy": "2025-09-22T16:45:35.694576Z",
     "iopub.status.idle": "2025-09-22T16:45:35.699781Z",
     "shell.execute_reply": "2025-09-22T16:45:35.699171Z"
    },
    "papermill": {
     "duration": 0.010119,
     "end_time": "2025-09-22T16:45:35.701074",
     "exception": false,
     "start_time": "2025-09-22T16:45:35.690955",
     "status": "completed"
    },
    "tags": []
   },
   "outputs": [
    {
     "data": {
      "text/plain": [
       "index           int64\n",
       "SKU Code       object\n",
       "Design No.     object\n",
       "Stock         float64\n",
       "Category       object\n",
       "Size           object\n",
       "Color          object\n",
       "dtype: object"
      ]
     },
     "execution_count": 11,
     "metadata": {},
     "output_type": "execute_result"
    }
   ],
   "source": [
    "df.dtypes"
   ]
  },
  {
   "cell_type": "code",
   "execution_count": 12,
   "id": "72a2fafa",
   "metadata": {
    "execution": {
     "iopub.execute_input": "2025-09-22T16:45:35.709532Z",
     "iopub.status.busy": "2025-09-22T16:45:35.709089Z",
     "iopub.status.idle": "2025-09-22T16:45:35.712935Z",
     "shell.execute_reply": "2025-09-22T16:45:35.712242Z"
    },
    "papermill": {
     "duration": 0.00918,
     "end_time": "2025-09-22T16:45:35.713959",
     "exception": false,
     "start_time": "2025-09-22T16:45:35.704779",
     "status": "completed"
    },
    "tags": []
   },
   "outputs": [
    {
     "name": "stdout",
     "output_type": "stream",
     "text": [
      "Rows before: 9271\n",
      "Rows after removing duplicates: 9271\n"
     ]
    }
   ],
   "source": [
    "print(\"Rows before:\", 9271)\n",
    "print(\"Rows after removing duplicates:\", df.shape[0])"
   ]
  },
  {
   "cell_type": "code",
   "execution_count": 13,
   "id": "f7f24709",
   "metadata": {
    "execution": {
     "iopub.execute_input": "2025-09-22T16:45:35.721317Z",
     "iopub.status.busy": "2025-09-22T16:45:35.721072Z",
     "iopub.status.idle": "2025-09-22T16:45:35.737034Z",
     "shell.execute_reply": "2025-09-22T16:45:35.736270Z"
    },
    "papermill": {
     "duration": 0.02118,
     "end_time": "2025-09-22T16:45:35.738418",
     "exception": false,
     "start_time": "2025-09-22T16:45:35.717238",
     "status": "completed"
    },
    "tags": []
   },
   "outputs": [
    {
     "name": "stdout",
     "output_type": "stream",
     "text": [
      "Missing values:\n",
      " index         0\n",
      "SKU Code      0\n",
      "Design No.    0\n",
      "Stock         0\n",
      "Category      0\n",
      "Size          0\n",
      "Color         0\n",
      "dtype: int64\n",
      "\n",
      "Duplicate rows: 0\n",
      "\n",
      "Column data types:\n",
      " index           int64\n",
      "SKU Code       object\n",
      "Design No.     object\n",
      "Stock         float64\n",
      "Category       object\n",
      "Size           object\n",
      "Color          object\n",
      "dtype: object\n",
      "\n",
      "Sample rows:\n",
      "\n",
      "   index       SKU Code Design No.  Stock       Category Size Color\n",
      "0      0    AN201-RED-L      AN201    5.0  AN : LEGGINGS    L   Red\n",
      "1      1    AN201-RED-M      AN201    5.0  AN : LEGGINGS    M   Red\n",
      "2      2    AN201-RED-S      AN201    3.0  AN : LEGGINGS    S   Red\n",
      "3      3   AN201-RED-XL      AN201    6.0  AN : LEGGINGS   XL   Red\n",
      "4      4  AN201-RED-XXL      AN201    3.0  AN : LEGGINGS  XXL   Red\n",
      "      index SKU Code Design No.  Stock Category     Size    Color\n",
      "9266   9266  Unknown    Unknown    0.0  Unknown  Unknown  Unknown\n",
      "9267   9267  Unknown    Unknown    0.0  Unknown  Unknown  Unknown\n",
      "9268   9268  Unknown    Unknown    0.0  Unknown  Unknown  Unknown\n",
      "9269   9269  Unknown    Unknown    0.0  Unknown  Unknown  Unknown\n",
      "9270   9270  Unknown    Unknown    0.0  Unknown  Unknown  Unknown\n"
     ]
    }
   ],
   "source": [
    "# 1. Check missing values\n",
    "print(\"Missing values:\\n\", df.isnull().sum())\n",
    "\n",
    "# 2. Check duplicates\n",
    "print(\"\\nDuplicate rows:\", df.duplicated().sum())\n",
    "\n",
    "# 3. Check column types\n",
    "print(\"\\nColumn data types:\\n\", df.dtypes)\n",
    "\n",
    "# 4. Check some sample rows\n",
    "print(\"\\nSample rows:\\n\")\n",
    "print(df.head())\n",
    "print(df.tail())\n",
    "\n",
    "# ✅ If no missing values and duplicates = 0, cleaning is complete"
   ]
  },
  {
   "cell_type": "code",
   "execution_count": 14,
   "id": "0986c775",
   "metadata": {
    "execution": {
     "iopub.execute_input": "2025-09-22T16:45:35.746634Z",
     "iopub.status.busy": "2025-09-22T16:45:35.746121Z",
     "iopub.status.idle": "2025-09-22T16:45:35.751055Z",
     "shell.execute_reply": "2025-09-22T16:45:35.750350Z"
    },
    "papermill": {
     "duration": 0.010053,
     "end_time": "2025-09-22T16:45:35.752155",
     "exception": false,
     "start_time": "2025-09-22T16:45:35.742102",
     "status": "completed"
    },
    "tags": []
   },
   "outputs": [],
   "source": [
    "df.drop(columns=['index'], inplace=True)"
   ]
  },
  {
   "cell_type": "code",
   "execution_count": 15,
   "id": "e52b14c3",
   "metadata": {
    "execution": {
     "iopub.execute_input": "2025-09-22T16:45:35.759439Z",
     "iopub.status.busy": "2025-09-22T16:45:35.759196Z",
     "iopub.status.idle": "2025-09-22T16:45:35.764034Z",
     "shell.execute_reply": "2025-09-22T16:45:35.763468Z"
    },
    "papermill": {
     "duration": 0.009819,
     "end_time": "2025-09-22T16:45:35.765186",
     "exception": false,
     "start_time": "2025-09-22T16:45:35.755367",
     "status": "completed"
    },
    "tags": []
   },
   "outputs": [
    {
     "data": {
      "text/plain": [
       "SKU Code       object\n",
       "Design No.     object\n",
       "Stock         float64\n",
       "Category       object\n",
       "Size           object\n",
       "Color          object\n",
       "dtype: object"
      ]
     },
     "execution_count": 15,
     "metadata": {},
     "output_type": "execute_result"
    }
   ],
   "source": [
    "df.dtypes"
   ]
  },
  {
   "cell_type": "code",
   "execution_count": 16,
   "id": "94a29816",
   "metadata": {
    "execution": {
     "iopub.execute_input": "2025-09-22T16:45:35.773351Z",
     "iopub.status.busy": "2025-09-22T16:45:35.772883Z",
     "iopub.status.idle": "2025-09-22T16:45:35.788363Z",
     "shell.execute_reply": "2025-09-22T16:45:35.787247Z"
    },
    "papermill": {
     "duration": 0.020368,
     "end_time": "2025-09-22T16:45:35.789464",
     "exception": false,
     "start_time": "2025-09-22T16:45:35.769096",
     "status": "completed"
    },
    "tags": []
   },
   "outputs": [
    {
     "name": "stdout",
     "output_type": "stream",
     "text": [
      "✅ Missing values:\n",
      " SKU Code      0\n",
      "Design No.    0\n",
      "Stock         0\n",
      "Category      0\n",
      "Size          0\n",
      "Color         0\n",
      "dtype: int64\n",
      "\n",
      "✅ Duplicate rows: 38\n",
      "\n",
      "✅ Column data types:\n",
      " SKU Code       object\n",
      "Design No.     object\n",
      "Stock         float64\n",
      "Category       object\n",
      "Size           object\n",
      "Color          object\n",
      "dtype: object\n",
      "\n",
      "✅ Sample first 5 rows:\n",
      "         SKU Code Design No.  Stock       Category Size Color\n",
      "0    AN201-RED-L      AN201    5.0  AN : LEGGINGS    L   Red\n",
      "1    AN201-RED-M      AN201    5.0  AN : LEGGINGS    M   Red\n",
      "2    AN201-RED-S      AN201    3.0  AN : LEGGINGS    S   Red\n",
      "3   AN201-RED-XL      AN201    6.0  AN : LEGGINGS   XL   Red\n",
      "4  AN201-RED-XXL      AN201    3.0  AN : LEGGINGS  XXL   Red\n",
      "\n",
      "✅ Sample last 5 rows:\n",
      "      SKU Code Design No.  Stock Category     Size    Color\n",
      "9266  Unknown    Unknown    0.0  Unknown  Unknown  Unknown\n",
      "9267  Unknown    Unknown    0.0  Unknown  Unknown  Unknown\n",
      "9268  Unknown    Unknown    0.0  Unknown  Unknown  Unknown\n",
      "9269  Unknown    Unknown    0.0  Unknown  Unknown  Unknown\n",
      "9270  Unknown    Unknown    0.0  Unknown  Unknown  Unknown\n",
      "\n",
      "✅ Dataset shape: (9271, 6)\n"
     ]
    }
   ],
   "source": [
    "print(\"✅ Missing values:\\n\", df.isnull().sum())\n",
    "print(\"\\n✅ Duplicate rows:\", df.duplicated().sum())\n",
    "print(\"\\n✅ Column data types:\\n\", df.dtypes)\n",
    "print(\"\\n✅ Sample first 5 rows:\\n\", df.head())\n",
    "print(\"\\n✅ Sample last 5 rows:\\n\", df.tail())\n",
    "print(\"\\n✅ Dataset shape:\", df.shape)"
   ]
  }
 ],
 "metadata": {
  "kaggle": {
   "accelerator": "none",
   "dataSources": [
    {
     "datasetId": 2699295,
     "sourceId": 4642886,
     "sourceType": "datasetVersion"
    }
   ],
   "dockerImageVersionId": 31089,
   "isGpuEnabled": false,
   "isInternetEnabled": false,
   "language": "python",
   "sourceType": "notebook"
  },
  "kernelspec": {
   "display_name": "Python 3",
   "language": "python",
   "name": "python3"
  },
  "language_info": {
   "codemirror_mode": {
    "name": "ipython",
    "version": 3
   },
   "file_extension": ".py",
   "mimetype": "text/x-python",
   "name": "python",
   "nbconvert_exporter": "python",
   "pygments_lexer": "ipython3",
   "version": "3.11.13"
  },
  "papermill": {
   "default_parameters": {},
   "duration": 6.987121,
   "end_time": "2025-09-22T16:45:36.209570",
   "environment_variables": {},
   "exception": null,
   "input_path": "__notebook__.ipynb",
   "output_path": "__notebook__.ipynb",
   "parameters": {},
   "start_time": "2025-09-22T16:45:29.222449",
   "version": "2.6.0"
  }
 },
 "nbformat": 4,
 "nbformat_minor": 5
}
